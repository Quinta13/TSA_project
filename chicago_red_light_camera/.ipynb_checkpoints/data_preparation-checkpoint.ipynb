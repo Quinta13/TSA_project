{
 "cells": [
  {
   "cell_type": "markdown",
   "id": "5eeb18ae-2e60-4937-9e3e-a101a5312884",
   "metadata": {
    "id": "5eeb18ae-2e60-4937-9e3e-a101a5312884"
   },
   "source": [
    "# Time Series Analysis for Computer Science [CM0629] a.y. 2023-24 <br>Sebastiano Quintavalle 878500"
   ]
  },
  {
   "cell_type": "markdown",
   "id": "97038194-2c34-4285-ba6b-5e240fbcf39a",
   "metadata": {
    "id": "97038194-2c34-4285-ba6b-5e240fbcf39a"
   },
   "source": [
    "## Dataset"
   ]
  },
  {
   "cell_type": "markdown",
   "id": "31532844-4978-49bd-a917-1b2b3ccc404c",
   "metadata": {
    "id": "31532844-4978-49bd-a917-1b2b3ccc404c"
   },
   "source": [
    "The dataset is available at the [Chicago Data Portal](https://data.cityofchicago.org/Transportation/Red-Light-Camera-Violations/spqx-js37/data_preview) and consists of **daily traffic light violations**."
   ]
  },
  {
   "cell_type": "markdown",
   "id": "109d23e5-54d8-4d86-b3c3-055838086111",
   "metadata": {
    "id": "109d23e5-54d8-4d86-b3c3-055838086111"
   },
   "source": [
    "We read the file and inspect the first few lines."
   ]
  },
  {
   "cell_type": "code",
   "execution_count": 1,
   "id": "d94cec90-af2f-4a62-b5e4-67833a8347e6",
   "metadata": {
    "ExecuteTime": {
     "end_time": "2024-01-08T17:03:06.057618900Z",
     "start_time": "2024-01-08T17:02:47.036617Z"
    },
    "id": "d94cec90-af2f-4a62-b5e4-67833a8347e6"
   },
   "outputs": [],
   "source": [
    "import pandas as pd\n",
    "\n",
    "FILE_PATH = \"./data/red_light_camera_violations.csv\"\n",
    "violations = pd.read_csv(FILE_PATH, on_bad_lines=\"skip\")"
   ]
  },
  {
   "cell_type": "code",
   "execution_count": 2,
   "id": "e50fded6-240e-4a28-8275-314b2beaa61b",
   "metadata": {
    "ExecuteTime": {
     "end_time": "2023-12-13T14:09:41.620796500Z",
     "start_time": "2023-12-13T14:09:41.551865500Z"
    },
    "colab": {
     "base_uri": "https://localhost:8080/"
    },
    "id": "e50fded6-240e-4a28-8275-314b2beaa61b",
    "outputId": "ea344bcb-54ac-4da5-c8fc-8d4b60a92816"
   },
   "outputs": [
    {
     "name": "stdout",
     "output_type": "stream",
     "text": [
      "Length: 904942\n",
      "Columns: ['INTERSECTION', 'CAMERA ID', 'ADDRESS', 'VIOLATION DATE', 'VIOLATIONS', 'X COORDINATE', 'Y COORDINATE', 'LATITUDE', 'LONGITUDE', 'LOCATION']\n"
     ]
    }
   ],
   "source": [
    "print(f\"Length: {len(violations)}\")\n",
    "print(f\"Columns: {list(violations.columns)}\")"
   ]
  },
  {
   "cell_type": "code",
   "execution_count": 3,
   "id": "fae9vDpjRdT6",
   "metadata": {
    "ExecuteTime": {
     "end_time": "2023-12-13T14:09:41.622216600Z",
     "start_time": "2023-12-13T14:09:41.562267600Z"
    },
    "colab": {
     "base_uri": "https://localhost:8080/",
     "height": 764
    },
    "id": "fae9vDpjRdT6",
    "outputId": "e240b2a3-d078-4f15-d564-50b0e52cd295"
   },
   "outputs": [
    {
     "data": {
      "text/html": [
       "<div>\n",
       "<style scoped>\n",
       "    .dataframe tbody tr th:only-of-type {\n",
       "        vertical-align: middle;\n",
       "    }\n",
       "\n",
       "    .dataframe tbody tr th {\n",
       "        vertical-align: top;\n",
       "    }\n",
       "\n",
       "    .dataframe thead th {\n",
       "        text-align: right;\n",
       "    }\n",
       "</style>\n",
       "<table border=\"1\" class=\"dataframe\">\n",
       "  <thead>\n",
       "    <tr style=\"text-align: right;\">\n",
       "      <th></th>\n",
       "      <th>INTERSECTION</th>\n",
       "      <th>CAMERA ID</th>\n",
       "      <th>ADDRESS</th>\n",
       "      <th>VIOLATION DATE</th>\n",
       "      <th>VIOLATIONS</th>\n",
       "      <th>X COORDINATE</th>\n",
       "      <th>Y COORDINATE</th>\n",
       "      <th>LATITUDE</th>\n",
       "      <th>LONGITUDE</th>\n",
       "      <th>LOCATION</th>\n",
       "    </tr>\n",
       "  </thead>\n",
       "  <tbody>\n",
       "    <tr>\n",
       "      <th>0</th>\n",
       "      <td>IRVING PARK AND KILPATRICK</td>\n",
       "      <td>2763.0</td>\n",
       "      <td>4700 W IRVING PARK ROA</td>\n",
       "      <td>04/09/2015</td>\n",
       "      <td>4</td>\n",
       "      <td>NaN</td>\n",
       "      <td>NaN</td>\n",
       "      <td>NaN</td>\n",
       "      <td>NaN</td>\n",
       "      <td>NaN</td>\n",
       "    </tr>\n",
       "    <tr>\n",
       "      <th>1</th>\n",
       "      <td>VAN BUREN AND WESTERN</td>\n",
       "      <td>2054.0</td>\n",
       "      <td>2400 W VAN BUREN STREE</td>\n",
       "      <td>04/14/2015</td>\n",
       "      <td>5</td>\n",
       "      <td>NaN</td>\n",
       "      <td>NaN</td>\n",
       "      <td>NaN</td>\n",
       "      <td>NaN</td>\n",
       "      <td>NaN</td>\n",
       "    </tr>\n",
       "    <tr>\n",
       "      <th>2</th>\n",
       "      <td>115TH AND HALSTED</td>\n",
       "      <td>2552.0</td>\n",
       "      <td>11500 S HALSTED STREE</td>\n",
       "      <td>04/08/2015</td>\n",
       "      <td>5</td>\n",
       "      <td>NaN</td>\n",
       "      <td>NaN</td>\n",
       "      <td>NaN</td>\n",
       "      <td>NaN</td>\n",
       "      <td>NaN</td>\n",
       "    </tr>\n",
       "    <tr>\n",
       "      <th>3</th>\n",
       "      <td>IRVING PARK AND KILPATRICK</td>\n",
       "      <td>2764.0</td>\n",
       "      <td>4700 W IRVING PARK ROA</td>\n",
       "      <td>04/19/2015</td>\n",
       "      <td>4</td>\n",
       "      <td>NaN</td>\n",
       "      <td>NaN</td>\n",
       "      <td>NaN</td>\n",
       "      <td>NaN</td>\n",
       "      <td>NaN</td>\n",
       "    </tr>\n",
       "    <tr>\n",
       "      <th>4</th>\n",
       "      <td>ELSTON AND IRVING PARK</td>\n",
       "      <td>1503.0</td>\n",
       "      <td>3700 W IRVING PARK ROA</td>\n",
       "      <td>04/23/2015</td>\n",
       "      <td>3</td>\n",
       "      <td>NaN</td>\n",
       "      <td>NaN</td>\n",
       "      <td>NaN</td>\n",
       "      <td>NaN</td>\n",
       "      <td>NaN</td>\n",
       "    </tr>\n",
       "    <tr>\n",
       "      <th>5</th>\n",
       "      <td>31ST AND CALIFORNIA</td>\n",
       "      <td>2064.0</td>\n",
       "      <td>2800 W 31ST</td>\n",
       "      <td>09/14/2014</td>\n",
       "      <td>3</td>\n",
       "      <td>NaN</td>\n",
       "      <td>NaN</td>\n",
       "      <td>NaN</td>\n",
       "      <td>NaN</td>\n",
       "      <td>NaN</td>\n",
       "    </tr>\n",
       "    <tr>\n",
       "      <th>6</th>\n",
       "      <td>31ST AND CALIFORNIA</td>\n",
       "      <td>2064.0</td>\n",
       "      <td>2800 W 31ST</td>\n",
       "      <td>12/16/2014</td>\n",
       "      <td>1</td>\n",
       "      <td>NaN</td>\n",
       "      <td>NaN</td>\n",
       "      <td>NaN</td>\n",
       "      <td>NaN</td>\n",
       "      <td>NaN</td>\n",
       "    </tr>\n",
       "    <tr>\n",
       "      <th>7</th>\n",
       "      <td>4700 WESTERN</td>\n",
       "      <td>2141.0</td>\n",
       "      <td>4700 S WESTERN AVENUE</td>\n",
       "      <td>06/05/2019</td>\n",
       "      <td>3</td>\n",
       "      <td>1.161120e+06</td>\n",
       "      <td>1.873431e+06</td>\n",
       "      <td>41.808378</td>\n",
       "      <td>-87.684571</td>\n",
       "      <td>(41.808378407946726, -87.68457071689552)</td>\n",
       "    </tr>\n",
       "    <tr>\n",
       "      <th>8</th>\n",
       "      <td>31ST AND CALIFORNIA</td>\n",
       "      <td>2064.0</td>\n",
       "      <td>2800 W 31ST</td>\n",
       "      <td>01/30/2015</td>\n",
       "      <td>4</td>\n",
       "      <td>NaN</td>\n",
       "      <td>NaN</td>\n",
       "      <td>NaN</td>\n",
       "      <td>NaN</td>\n",
       "      <td>NaN</td>\n",
       "    </tr>\n",
       "    <tr>\n",
       "      <th>9</th>\n",
       "      <td>WESTERN AND DEVON</td>\n",
       "      <td>1211.0</td>\n",
       "      <td>6400 N WESTERN AVENUE</td>\n",
       "      <td>06/05/2019</td>\n",
       "      <td>2</td>\n",
       "      <td>1.159114e+06</td>\n",
       "      <td>1.942452e+06</td>\n",
       "      <td>41.997818</td>\n",
       "      <td>-87.690033</td>\n",
       "      <td>(41.997817807026, -87.69003303469276)</td>\n",
       "    </tr>\n",
       "  </tbody>\n",
       "</table>\n",
       "</div>"
      ],
      "text/plain": [
       "                 INTERSECTION  CAMERA ID                 ADDRESS  \\\n",
       "0  IRVING PARK AND KILPATRICK     2763.0  4700 W IRVING PARK ROA   \n",
       "1       VAN BUREN AND WESTERN     2054.0  2400 W VAN BUREN STREE   \n",
       "2           115TH AND HALSTED     2552.0   11500 S HALSTED STREE   \n",
       "3  IRVING PARK AND KILPATRICK     2764.0  4700 W IRVING PARK ROA   \n",
       "4      ELSTON AND IRVING PARK     1503.0  3700 W IRVING PARK ROA   \n",
       "5         31ST AND CALIFORNIA     2064.0             2800 W 31ST   \n",
       "6         31ST AND CALIFORNIA     2064.0             2800 W 31ST   \n",
       "7                4700 WESTERN     2141.0   4700 S WESTERN AVENUE   \n",
       "8         31ST AND CALIFORNIA     2064.0             2800 W 31ST   \n",
       "9           WESTERN AND DEVON     1211.0   6400 N WESTERN AVENUE   \n",
       "\n",
       "  VIOLATION DATE  VIOLATIONS  X COORDINATE  Y COORDINATE   LATITUDE  \\\n",
       "0     04/09/2015           4           NaN           NaN        NaN   \n",
       "1     04/14/2015           5           NaN           NaN        NaN   \n",
       "2     04/08/2015           5           NaN           NaN        NaN   \n",
       "3     04/19/2015           4           NaN           NaN        NaN   \n",
       "4     04/23/2015           3           NaN           NaN        NaN   \n",
       "5     09/14/2014           3           NaN           NaN        NaN   \n",
       "6     12/16/2014           1           NaN           NaN        NaN   \n",
       "7     06/05/2019           3  1.161120e+06  1.873431e+06  41.808378   \n",
       "8     01/30/2015           4           NaN           NaN        NaN   \n",
       "9     06/05/2019           2  1.159114e+06  1.942452e+06  41.997818   \n",
       "\n",
       "   LONGITUDE                                  LOCATION  \n",
       "0        NaN                                       NaN  \n",
       "1        NaN                                       NaN  \n",
       "2        NaN                                       NaN  \n",
       "3        NaN                                       NaN  \n",
       "4        NaN                                       NaN  \n",
       "5        NaN                                       NaN  \n",
       "6        NaN                                       NaN  \n",
       "7 -87.684571  (41.808378407946726, -87.68457071689552)  \n",
       "8        NaN                                       NaN  \n",
       "9 -87.690033     (41.997817807026, -87.69003303469276)  "
      ]
     },
     "execution_count": 3,
     "metadata": {},
     "output_type": "execute_result"
    }
   ],
   "source": [
    "violations.head(10)"
   ]
  },
  {
   "cell_type": "markdown",
   "id": "KL95kbafEvX2",
   "metadata": {
    "id": "KL95kbafEvX2"
   },
   "source": [
    "## Preprocessing"
   ]
  },
  {
   "cell_type": "markdown",
   "id": "VJHWO_GoDUVe",
   "metadata": {
    "id": "VJHWO_GoDUVe"
   },
   "source": [
    "We only keep the columns we are mainly interested in, that are the ***CameraID*** and it's location in terms of ***latitude*** and ***longitude***, along with the ***violation date*** and the ***number of violations***."
   ]
  },
  {
   "cell_type": "code",
   "execution_count": 4,
   "id": "2DJprLh7D3NL",
   "metadata": {
    "ExecuteTime": {
     "end_time": "2023-12-13T14:09:41.663316800Z",
     "start_time": "2023-12-13T14:09:41.591821100Z"
    },
    "id": "2DJprLh7D3NL"
   },
   "outputs": [],
   "source": [
    "violations = violations.loc[:, ['CAMERA ID', 'VIOLATION DATE', 'VIOLATIONS', 'LATITUDE', 'LONGITUDE']]"
   ]
  },
  {
   "cell_type": "markdown",
   "id": "t2zg-UMcE76D",
   "metadata": {
    "id": "t2zg-UMcE76D"
   },
   "source": [
    "We rename the columns."
   ]
  },
  {
   "cell_type": "code",
   "execution_count": 5,
   "id": "vwlpQ8B3ElNb",
   "metadata": {
    "ExecuteTime": {
     "end_time": "2023-12-13T14:09:41.790846600Z",
     "start_time": "2023-12-13T14:09:41.642123100Z"
    },
    "id": "vwlpQ8B3ElNb"
   },
   "outputs": [],
   "source": [
    "violations.rename(columns={\n",
    "    'CAMERA ID': 'CameraID',\n",
    "    'VIOLATION DATE': 'Date',\n",
    "    'VIOLATIONS': 'Violations',\n",
    "    'LATITUDE': 'Lat',\n",
    "    'LONGITUDE': 'Lon'\n",
    "}, inplace=True)"
   ]
  },
  {
   "cell_type": "markdown",
   "id": "d1WKDjFyGFz7",
   "metadata": {
    "id": "d1WKDjFyGFz7"
   },
   "source": [
    "We delete all rows with unkown ID or unknown location."
   ]
  },
  {
   "cell_type": "code",
   "execution_count": 6,
   "id": "dy_L6E8gGORR",
   "metadata": {
    "ExecuteTime": {
     "end_time": "2023-12-13T14:09:41.981021900Z",
     "start_time": "2023-12-13T14:09:41.650768700Z"
    },
    "id": "dy_L6E8gGORR"
   },
   "outputs": [],
   "source": [
    "violations.dropna(subset=['CameraID'], inplace=True)\n",
    "violations.dropna(subset=['Lat', 'Lon'], inplace=True)"
   ]
  },
  {
   "cell_type": "markdown",
   "id": "RVrmWBJuFgf_",
   "metadata": {
    "id": "RVrmWBJuFgf_"
   },
   "source": [
    "We cast the Camera-ID and the numer of violation to integer."
   ]
  },
  {
   "cell_type": "code",
   "execution_count": 7,
   "id": "luLg794nFpOO",
   "metadata": {
    "ExecuteTime": {
     "end_time": "2023-12-13T14:09:42.012054900Z",
     "start_time": "2023-12-13T14:09:41.774866200Z"
    },
    "colab": {
     "base_uri": "https://localhost:8080/",
     "height": 338
    },
    "id": "luLg794nFpOO",
    "outputId": "d7d4783d-fbd1-4d39-9c71-951f98370d65"
   },
   "outputs": [],
   "source": [
    "violations['CameraID'] = violations['CameraID'].astype(int)\n",
    "violations['Violations'] = violations['Violations'].astype(int)"
   ]
  },
  {
   "cell_type": "markdown",
   "id": "YJw25aVcFfvk",
   "metadata": {
    "id": "YJw25aVcFfvk"
   },
   "source": [
    "We add a new column referring to the violation date as a ***date-type*** so we can sort over it."
   ]
  },
  {
   "cell_type": "code",
   "execution_count": 8,
   "id": "dv4P0n2iHL9m",
   "metadata": {
    "ExecuteTime": {
     "end_time": "2023-12-13T14:09:42.232245300Z",
     "start_time": "2023-12-13T14:09:41.900099500Z"
    },
    "id": "dv4P0n2iHL9m"
   },
   "outputs": [],
   "source": [
    "violations['DateT'] = pd.to_datetime(violations['Date'], format='%m/%d/%Y')\n",
    "violations.sort_values(by='DateT', inplace=True)"
   ]
  },
  {
   "cell_type": "markdown",
   "id": "vFbvU_gBHepJ",
   "metadata": {
    "id": "vFbvU_gBHepJ"
   },
   "source": [
    "Let's take a look to the modified dataset."
   ]
  },
  {
   "cell_type": "code",
   "execution_count": 9,
   "id": "cc397baf-390c-4927-a0d3-360cdf611bd7",
   "metadata": {
    "ExecuteTime": {
     "end_time": "2023-12-13T14:09:42.423589100Z",
     "start_time": "2023-12-13T14:09:42.250709500Z"
    },
    "colab": {
     "base_uri": "https://localhost:8080/",
     "height": 363
    },
    "id": "cc397baf-390c-4927-a0d3-360cdf611bd7",
    "outputId": "7230749a-93e8-4fee-b162-d8ed5d5ccbcc"
   },
   "outputs": [
    {
     "data": {
      "text/html": [
       "<div>\n",
       "<style scoped>\n",
       "    .dataframe tbody tr th:only-of-type {\n",
       "        vertical-align: middle;\n",
       "    }\n",
       "\n",
       "    .dataframe tbody tr th {\n",
       "        vertical-align: top;\n",
       "    }\n",
       "\n",
       "    .dataframe thead th {\n",
       "        text-align: right;\n",
       "    }\n",
       "</style>\n",
       "<table border=\"1\" class=\"dataframe\">\n",
       "  <thead>\n",
       "    <tr style=\"text-align: right;\">\n",
       "      <th></th>\n",
       "      <th>CameraID</th>\n",
       "      <th>Date</th>\n",
       "      <th>Violations</th>\n",
       "      <th>Lat</th>\n",
       "      <th>Lon</th>\n",
       "      <th>DateT</th>\n",
       "    </tr>\n",
       "  </thead>\n",
       "  <tbody>\n",
       "    <tr>\n",
       "      <th>762534</th>\n",
       "      <td>2163</td>\n",
       "      <td>07/01/2014</td>\n",
       "      <td>1</td>\n",
       "      <td>41.793623</td>\n",
       "      <td>-87.703618</td>\n",
       "      <td>2014-07-01</td>\n",
       "    </tr>\n",
       "    <tr>\n",
       "      <th>629375</th>\n",
       "      <td>1563</td>\n",
       "      <td>07/01/2014</td>\n",
       "      <td>9</td>\n",
       "      <td>41.946840</td>\n",
       "      <td>-87.688320</td>\n",
       "      <td>2014-07-01</td>\n",
       "    </tr>\n",
       "    <tr>\n",
       "      <th>668400</th>\n",
       "      <td>1454</td>\n",
       "      <td>07/01/2014</td>\n",
       "      <td>3</td>\n",
       "      <td>41.931249</td>\n",
       "      <td>-87.776029</td>\n",
       "      <td>2014-07-01</td>\n",
       "    </tr>\n",
       "    <tr>\n",
       "      <th>743537</th>\n",
       "      <td>2624</td>\n",
       "      <td>07/01/2014</td>\n",
       "      <td>10</td>\n",
       "      <td>41.758074</td>\n",
       "      <td>-87.624672</td>\n",
       "      <td>2014-07-01</td>\n",
       "    </tr>\n",
       "    <tr>\n",
       "      <th>561738</th>\n",
       "      <td>1143</td>\n",
       "      <td>07/01/2014</td>\n",
       "      <td>6</td>\n",
       "      <td>41.968987</td>\n",
       "      <td>-87.669516</td>\n",
       "      <td>2014-07-01</td>\n",
       "    </tr>\n",
       "    <tr>\n",
       "      <th>401265</th>\n",
       "      <td>1701</td>\n",
       "      <td>07/01/2014</td>\n",
       "      <td>2</td>\n",
       "      <td>41.925540</td>\n",
       "      <td>-87.648912</td>\n",
       "      <td>2014-07-01</td>\n",
       "    </tr>\n",
       "    <tr>\n",
       "      <th>265168</th>\n",
       "      <td>2741</td>\n",
       "      <td>07/01/2014</td>\n",
       "      <td>2</td>\n",
       "      <td>41.993841</td>\n",
       "      <td>-87.714242</td>\n",
       "      <td>2014-07-01</td>\n",
       "    </tr>\n",
       "    <tr>\n",
       "      <th>756892</th>\n",
       "      <td>2003</td>\n",
       "      <td>07/01/2014</td>\n",
       "      <td>2</td>\n",
       "      <td>41.917042</td>\n",
       "      <td>-87.746176</td>\n",
       "      <td>2014-07-01</td>\n",
       "    </tr>\n",
       "    <tr>\n",
       "      <th>673627</th>\n",
       "      <td>1513</td>\n",
       "      <td>07/01/2014</td>\n",
       "      <td>1</td>\n",
       "      <td>41.932205</td>\n",
       "      <td>-87.697679</td>\n",
       "      <td>2014-07-01</td>\n",
       "    </tr>\n",
       "    <tr>\n",
       "      <th>453288</th>\n",
       "      <td>2123</td>\n",
       "      <td>07/01/2014</td>\n",
       "      <td>4</td>\n",
       "      <td>41.838534</td>\n",
       "      <td>-87.617046</td>\n",
       "      <td>2014-07-01</td>\n",
       "    </tr>\n",
       "  </tbody>\n",
       "</table>\n",
       "</div>"
      ],
      "text/plain": [
       "        CameraID        Date  Violations        Lat        Lon      DateT\n",
       "762534      2163  07/01/2014           1  41.793623 -87.703618 2014-07-01\n",
       "629375      1563  07/01/2014           9  41.946840 -87.688320 2014-07-01\n",
       "668400      1454  07/01/2014           3  41.931249 -87.776029 2014-07-01\n",
       "743537      2624  07/01/2014          10  41.758074 -87.624672 2014-07-01\n",
       "561738      1143  07/01/2014           6  41.968987 -87.669516 2014-07-01\n",
       "401265      1701  07/01/2014           2  41.925540 -87.648912 2014-07-01\n",
       "265168      2741  07/01/2014           2  41.993841 -87.714242 2014-07-01\n",
       "756892      2003  07/01/2014           2  41.917042 -87.746176 2014-07-01\n",
       "673627      1513  07/01/2014           1  41.932205 -87.697679 2014-07-01\n",
       "453288      2123  07/01/2014           4  41.838534 -87.617046 2014-07-01"
      ]
     },
     "execution_count": 9,
     "metadata": {},
     "output_type": "execute_result"
    }
   ],
   "source": [
    "violations.head(10)"
   ]
  },
  {
   "cell_type": "markdown",
   "id": "Wz74UD4KPnhN",
   "metadata": {
    "id": "Wz74UD4KPnhN"
   },
   "source": [
    "## Deleting cameras not working in the entire period"
   ]
  },
  {
   "cell_type": "markdown",
   "id": "f04a392eb6de91c6",
   "metadata": {
    "collapsed": false,
    "jupyter": {
     "outputs_hidden": false
    }
   },
   "source": [
    "We want to ensure that **all cameras operate in the same time range**. If not when summing up the number of violations in a certain area may lead to unpredictable drifts in the tend."
   ]
  },
  {
   "cell_type": "code",
   "execution_count": 10,
   "id": "p2tmo2X7P3Ce",
   "metadata": {
    "ExecuteTime": {
     "end_time": "2023-12-13T14:09:42.902069300Z",
     "start_time": "2023-12-13T14:09:42.709928600Z"
    },
    "colab": {
     "base_uri": "https://localhost:8080/"
    },
    "id": "p2tmo2X7P3Ce",
    "outputId": "6261e684-d325-437e-8183-08a6a358e8dd"
   },
   "outputs": [
    {
     "name": "stdout",
     "output_type": "stream",
     "text": [
      "Boundary dates:\n",
      "- from 2014-12-31 00:00:00\n",
      "- to   2023-01-01 00:00:00\n"
     ]
    }
   ],
   "source": [
    "max_date_2014 = violations.loc[violations['DateT'].dt.year == 2014, 'DateT'].dropna().max()\n",
    "min_date_2023 = violations.loc[violations['DateT'].dt.year == 2023, 'DateT'].dropna().min()\n",
    "\n",
    "print(f\"Boundary dates:\")\n",
    "print(f\"- from {max_date_2014}\")\n",
    "print(f\"- to   {min_date_2023}\")"
   ]
  },
  {
   "cell_type": "markdown",
   "id": "9242595b2361eec7",
   "metadata": {
    "collapsed": false,
    "jupyter": {
     "outputs_hidden": false
    }
   },
   "source": [
    "We consider the whole **period from 2015 to 2022**."
   ]
  },
  {
   "cell_type": "code",
   "execution_count": 11,
   "id": "bf891702da014e7e",
   "metadata": {
    "ExecuteTime": {
     "end_time": "2023-12-13T14:09:43.201807700Z",
     "start_time": "2023-12-13T14:09:43.040799Z"
    },
    "collapsed": false,
    "jupyter": {
     "outputs_hidden": false
    }
   },
   "outputs": [],
   "source": [
    "START = pd.to_datetime(\"01/01/2015\")\n",
    "END   = pd.to_datetime(\"12/31/2022\")"
   ]
  },
  {
   "cell_type": "markdown",
   "id": "ea14500bfe3d87df",
   "metadata": {
    "collapsed": false,
    "jupyter": {
     "outputs_hidden": false
    }
   },
   "source": [
    "We retrieve starting and ending date for each camera."
   ]
  },
  {
   "cell_type": "code",
   "execution_count": 12,
   "id": "30f198fe14591c50",
   "metadata": {
    "ExecuteTime": {
     "end_time": "2023-12-13T14:09:43.502208500Z",
     "start_time": "2023-12-13T14:09:43.380908500Z"
    },
    "collapsed": false,
    "jupyter": {
     "outputs_hidden": false
    }
   },
   "outputs": [],
   "source": [
    "camera_start_end = violations.groupby(['CameraID']).agg({'DateT': ['min', 'max']}).reset_index()\n",
    "camera_start_end.columns = ['CameraID', 'Start', 'End']"
   ]
  },
  {
   "cell_type": "code",
   "execution_count": 13,
   "id": "7d1cb03ce8570cc5",
   "metadata": {
    "ExecuteTime": {
     "end_time": "2023-12-13T14:09:43.681584500Z",
     "start_time": "2023-12-13T14:09:43.612296Z"
    },
    "collapsed": false,
    "jupyter": {
     "outputs_hidden": false
    }
   },
   "outputs": [
    {
     "data": {
      "text/html": [
       "<div>\n",
       "<style scoped>\n",
       "    .dataframe tbody tr th:only-of-type {\n",
       "        vertical-align: middle;\n",
       "    }\n",
       "\n",
       "    .dataframe tbody tr th {\n",
       "        vertical-align: top;\n",
       "    }\n",
       "\n",
       "    .dataframe thead th {\n",
       "        text-align: right;\n",
       "    }\n",
       "</style>\n",
       "<table border=\"1\" class=\"dataframe\">\n",
       "  <thead>\n",
       "    <tr style=\"text-align: right;\">\n",
       "      <th></th>\n",
       "      <th>CameraID</th>\n",
       "      <th>Start</th>\n",
       "      <th>End</th>\n",
       "    </tr>\n",
       "  </thead>\n",
       "  <tbody>\n",
       "    <tr>\n",
       "      <th>0</th>\n",
       "      <td>1002</td>\n",
       "      <td>2014-07-01</td>\n",
       "      <td>2023-11-29</td>\n",
       "    </tr>\n",
       "    <tr>\n",
       "      <th>1</th>\n",
       "      <td>1003</td>\n",
       "      <td>2014-07-01</td>\n",
       "      <td>2023-11-29</td>\n",
       "    </tr>\n",
       "    <tr>\n",
       "      <th>2</th>\n",
       "      <td>1011</td>\n",
       "      <td>2014-07-01</td>\n",
       "      <td>2023-11-29</td>\n",
       "    </tr>\n",
       "    <tr>\n",
       "      <th>3</th>\n",
       "      <td>1014</td>\n",
       "      <td>2014-07-01</td>\n",
       "      <td>2023-11-29</td>\n",
       "    </tr>\n",
       "    <tr>\n",
       "      <th>4</th>\n",
       "      <td>1023</td>\n",
       "      <td>2014-07-01</td>\n",
       "      <td>2023-11-29</td>\n",
       "    </tr>\n",
       "    <tr>\n",
       "      <th>5</th>\n",
       "      <td>1024</td>\n",
       "      <td>2014-07-01</td>\n",
       "      <td>2023-11-29</td>\n",
       "    </tr>\n",
       "    <tr>\n",
       "      <th>6</th>\n",
       "      <td>1031</td>\n",
       "      <td>2014-07-01</td>\n",
       "      <td>2023-11-29</td>\n",
       "    </tr>\n",
       "    <tr>\n",
       "      <th>7</th>\n",
       "      <td>1034</td>\n",
       "      <td>2014-07-01</td>\n",
       "      <td>2023-11-29</td>\n",
       "    </tr>\n",
       "    <tr>\n",
       "      <th>8</th>\n",
       "      <td>1041</td>\n",
       "      <td>2014-07-01</td>\n",
       "      <td>2023-11-29</td>\n",
       "    </tr>\n",
       "    <tr>\n",
       "      <th>9</th>\n",
       "      <td>1042</td>\n",
       "      <td>2014-07-01</td>\n",
       "      <td>2023-11-29</td>\n",
       "    </tr>\n",
       "  </tbody>\n",
       "</table>\n",
       "</div>"
      ],
      "text/plain": [
       "   CameraID      Start        End\n",
       "0      1002 2014-07-01 2023-11-29\n",
       "1      1003 2014-07-01 2023-11-29\n",
       "2      1011 2014-07-01 2023-11-29\n",
       "3      1014 2014-07-01 2023-11-29\n",
       "4      1023 2014-07-01 2023-11-29\n",
       "5      1024 2014-07-01 2023-11-29\n",
       "6      1031 2014-07-01 2023-11-29\n",
       "7      1034 2014-07-01 2023-11-29\n",
       "8      1041 2014-07-01 2023-11-29\n",
       "9      1042 2014-07-01 2023-11-29"
      ]
     },
     "execution_count": 13,
     "metadata": {},
     "output_type": "execute_result"
    }
   ],
   "source": [
    "camera_start_end.head(10)"
   ]
  },
  {
   "cell_type": "code",
   "execution_count": 14,
   "id": "5f9751929457a204",
   "metadata": {
    "ExecuteTime": {
     "end_time": "2023-12-13T14:09:43.825186100Z",
     "start_time": "2023-12-13T14:09:43.750766300Z"
    },
    "collapsed": false,
    "jupyter": {
     "outputs_hidden": false
    }
   },
   "outputs": [],
   "source": [
    "camera_start_end = {\n",
    "    camera: (start, end)\n",
    "    for camera, start, end in list(camera_start_end.itertuples(index=False, name=None))\n",
    "}"
   ]
  },
  {
   "cell_type": "markdown",
   "id": "ec202720a5129309",
   "metadata": {
    "collapsed": false,
    "jupyter": {
     "outputs_hidden": false
    }
   },
   "source": [
    "We retrieve and delete all cameras not fulfilling our requirements."
   ]
  },
  {
   "cell_type": "code",
   "execution_count": 15,
   "id": "d9ddcfe12dec4103",
   "metadata": {
    "ExecuteTime": {
     "end_time": "2023-12-13T14:09:44.110936100Z",
     "start_time": "2023-12-13T14:09:44.081441Z"
    },
    "collapsed": false,
    "jupyter": {
     "outputs_hidden": false
    }
   },
   "outputs": [
    {
     "data": {
      "text/plain": [
       "70"
      ]
     },
     "execution_count": 15,
     "metadata": {},
     "output_type": "execute_result"
    }
   ],
   "source": [
    "cameras_to_delete = [\n",
    "     camera for camera, (s, e) in camera_start_end.items() if s > START or e < END\n",
    "]\n",
    "len(cameras_to_delete)"
   ]
  },
  {
   "cell_type": "code",
   "execution_count": 16,
   "id": "6bd5287302bd064d",
   "metadata": {
    "ExecuteTime": {
     "end_time": "2023-12-13T14:09:44.352028Z",
     "start_time": "2023-12-13T14:09:44.260706600Z"
    },
    "collapsed": false,
    "jupyter": {
     "outputs_hidden": false
    }
   },
   "outputs": [],
   "source": [
    "violations = violations[~violations.loc[: , 'CameraID'].isin(cameras_to_delete)]"
   ]
  },
  {
   "cell_type": "markdown",
   "id": "f0af682744c96cac",
   "metadata": {
    "collapsed": false,
    "jupyter": {
     "outputs_hidden": false
    }
   },
   "source": [
    "For the remaining cameras, we delete each date not involved in considered one."
   ]
  },
  {
   "cell_type": "code",
   "execution_count": 17,
   "id": "ecfc4234338ad7c1",
   "metadata": {
    "ExecuteTime": {
     "end_time": "2023-12-13T14:09:44.775473100Z",
     "start_time": "2023-12-13T14:09:44.694201200Z"
    },
    "collapsed": false,
    "jupyter": {
     "outputs_hidden": false
    }
   },
   "outputs": [],
   "source": [
    "violations = violations[(violations['DateT'] >= START) & (violations['DateT'] <= END)]"
   ]
  },
  {
   "cell_type": "markdown",
   "id": "57fad720-b812-46b8-a175-7470103d6000",
   "metadata": {},
   "source": [
    "The final Dataset result now in the **period 2015-2022** and involves all **cameras always active** in such period."
   ]
  },
  {
   "cell_type": "code",
   "execution_count": 18,
   "id": "efece5cb-a564-4437-9423-28f9844a3cd1",
   "metadata": {},
   "outputs": [
    {
     "data": {
      "text/html": [
       "<div>\n",
       "<style scoped>\n",
       "    .dataframe tbody tr th:only-of-type {\n",
       "        vertical-align: middle;\n",
       "    }\n",
       "\n",
       "    .dataframe tbody tr th {\n",
       "        vertical-align: top;\n",
       "    }\n",
       "\n",
       "    .dataframe thead th {\n",
       "        text-align: right;\n",
       "    }\n",
       "</style>\n",
       "<table border=\"1\" class=\"dataframe\">\n",
       "  <thead>\n",
       "    <tr style=\"text-align: right;\">\n",
       "      <th></th>\n",
       "      <th>CameraID</th>\n",
       "      <th>Date</th>\n",
       "      <th>Violations</th>\n",
       "      <th>Lat</th>\n",
       "      <th>Lon</th>\n",
       "      <th>DateT</th>\n",
       "    </tr>\n",
       "  </thead>\n",
       "  <tbody>\n",
       "    <tr>\n",
       "      <th>564068</th>\n",
       "      <td>1024</td>\n",
       "      <td>01/01/2015</td>\n",
       "      <td>4</td>\n",
       "      <td>41.953025</td>\n",
       "      <td>-87.786683</td>\n",
       "      <td>2015-01-01</td>\n",
       "    </tr>\n",
       "    <tr>\n",
       "      <th>509040</th>\n",
       "      <td>1562</td>\n",
       "      <td>01/01/2015</td>\n",
       "      <td>2</td>\n",
       "      <td>41.946820</td>\n",
       "      <td>-87.688407</td>\n",
       "      <td>2015-01-01</td>\n",
       "    </tr>\n",
       "    <tr>\n",
       "      <th>603386</th>\n",
       "      <td>1941</td>\n",
       "      <td>01/01/2015</td>\n",
       "      <td>4</td>\n",
       "      <td>41.895787</td>\n",
       "      <td>-87.686991</td>\n",
       "      <td>2015-01-01</td>\n",
       "    </tr>\n",
       "    <tr>\n",
       "      <th>765389</th>\n",
       "      <td>1243</td>\n",
       "      <td>01/01/2015</td>\n",
       "      <td>1</td>\n",
       "      <td>42.011662</td>\n",
       "      <td>-87.812781</td>\n",
       "      <td>2015-01-01</td>\n",
       "    </tr>\n",
       "    <tr>\n",
       "      <th>441344</th>\n",
       "      <td>1284</td>\n",
       "      <td>01/01/2015</td>\n",
       "      <td>5</td>\n",
       "      <td>41.968226</td>\n",
       "      <td>-87.739599</td>\n",
       "      <td>2015-01-01</td>\n",
       "    </tr>\n",
       "  </tbody>\n",
       "</table>\n",
       "</div>"
      ],
      "text/plain": [
       "        CameraID        Date  Violations        Lat        Lon      DateT\n",
       "564068      1024  01/01/2015           4  41.953025 -87.786683 2015-01-01\n",
       "509040      1562  01/01/2015           2  41.946820 -87.688407 2015-01-01\n",
       "603386      1941  01/01/2015           4  41.895787 -87.686991 2015-01-01\n",
       "765389      1243  01/01/2015           1  42.011662 -87.812781 2015-01-01\n",
       "441344      1284  01/01/2015           5  41.968226 -87.739599 2015-01-01"
      ]
     },
     "execution_count": 18,
     "metadata": {},
     "output_type": "execute_result"
    }
   ],
   "source": [
    "violations.head()"
   ]
  },
  {
   "cell_type": "markdown",
   "id": "h3ShmCigIC_a",
   "metadata": {
    "id": "h3ShmCigIC_a"
   },
   "source": [
    "## Grouping cameras"
   ]
  },
  {
   "cell_type": "markdown",
   "id": "C8OjdxZDIF4i",
   "metadata": {
    "id": "C8OjdxZDIF4i"
   },
   "source": [
    "We have too many cameras to be processed individually and we need to find a strategy to group them together."
   ]
  },
  {
   "cell_type": "code",
   "execution_count": 19,
   "id": "Dg9qB93hIQRk",
   "metadata": {
    "ExecuteTime": {
     "end_time": "2023-12-13T14:09:45.345053200Z",
     "start_time": "2023-12-13T14:09:45.312886700Z"
    },
    "colab": {
     "base_uri": "https://localhost:8080/"
    },
    "id": "Dg9qB93hIQRk",
    "outputId": "4ab2d334-6561-4dd9-c539-df48a45c06c9"
   },
   "outputs": [
    {
     "data": {
      "text/plain": [
       "276"
      ]
     },
     "execution_count": 19,
     "metadata": {},
     "output_type": "execute_result"
    }
   ],
   "source": [
    "len(violations.loc[:, \"CameraID\"].unique())"
   ]
  },
  {
   "cell_type": "markdown",
   "id": "f85144ac-d8b0-4940-8013-0ac786ca1c41",
   "metadata": {},
   "source": [
    "Chicago city is divided in 9 'Sides': we **group cameras basing on their beloging region**."
   ]
  },
  {
   "cell_type": "code",
   "execution_count": 20,
   "id": "ueON4YZEJaaz",
   "metadata": {
    "ExecuteTime": {
     "end_time": "2023-12-13T14:10:08.961619700Z",
     "start_time": "2023-12-13T14:10:08.850720700Z"
    },
    "colab": {
     "base_uri": "https://localhost:8080/",
     "height": 620
    },
    "id": "ueON4YZEJaaz",
    "outputId": "8dcae7e9-2001-4494-8227-d640f47e7a42"
   },
   "outputs": [
    {
     "data": {
      "text/html": [
       "<img src=\"./out/chicago_sides.png\"/>"
      ],
      "text/plain": [
       "<IPython.core.display.Image object>"
      ]
     },
     "execution_count": 20,
     "metadata": {},
     "output_type": "execute_result"
    }
   ],
   "source": [
    "from IPython.display import Image\n",
    "from urllib.request import Request, urlopen\n",
    "\n",
    "IMAGE_URL = 'https://jhc.ryb.mybluehost.me/wp-content/uploads/2020/10/Chicago-Community-Areas-Map-min.png'\n",
    "IMAGE_PATH = './out/chicago_sides.png'\n",
    "\n",
    "\n",
    "request = Request(\n",
    "    IMAGE_URL, \n",
    "    headers={'User-Agent': 'Mozilla/5.0 (Windows NT 10.0; Win64; x64) AppleWebKit/537.36 (KHTML, like Gecko) Chrome/58.0.3029.110 Safari/537.3'}\n",
    ")\n",
    "with urlopen(request) as response:\n",
    "    with open(IMAGE_PATH, 'wb') as out_file:\n",
    "        out_file.write(response.read())\n",
    "\n",
    "Image(url=IMAGE_PATH)"
   ]
  },
  {
   "cell_type": "markdown",
   "id": "gD3MsMd7IK9P",
   "metadata": {
    "id": "gD3MsMd7IK9P"
   },
   "source": [
    "We leverage on **geodata** available at the Chicago Data Portal to get [regions polygons](https://data.cityofchicago.org/Facilities-Geographic-Boundaries/Boundaries-Community-Areas-current-/cauq-8yn6)."
   ]
  },
  {
   "cell_type": "code",
   "execution_count": 21,
   "id": "pcXEf-0LJ8a1",
   "metadata": {
    "ExecuteTime": {
     "end_time": "2023-12-13T14:10:20.685448600Z",
     "start_time": "2023-12-13T14:10:18.434187500Z"
    },
    "id": "pcXEf-0LJ8a1"
   },
   "outputs": [],
   "source": [
    "import geopandas as gpd\n",
    "\n",
    "GEO_PATH = './data/regions_poly.geojson'\n",
    "gdf_areas = gpd.read_file(GEO_PATH)\n",
    "\n",
    "gdf_areas.rename(columns={'area_num_1': 'Area'}, inplace=True)\n",
    "gdf_areas.drop(columns=[\n",
    "    'community', 'area', 'shape_area', 'perimeter',\n",
    "    'area_numbe', 'comarea_id', 'comarea', 'shape_len'],\n",
    "    inplace=True\n",
    ")"
   ]
  },
  {
   "cell_type": "markdown",
   "id": "l4i6rasgKbpi",
   "metadata": {
    "id": "l4i6rasgKbpi"
   },
   "source": [
    "The regions are described by an identifier and a polygon."
   ]
  },
  {
   "cell_type": "code",
   "execution_count": 22,
   "id": "VnngOuQcKLDF",
   "metadata": {
    "colab": {
     "base_uri": "https://localhost:8080/",
     "height": 363
    },
    "id": "VnngOuQcKLDF",
    "outputId": "79ca645f-8e6e-43a3-eccb-b96a5d3e7f5a"
   },
   "outputs": [
    {
     "data": {
      "text/html": [
       "<div>\n",
       "<style scoped>\n",
       "    .dataframe tbody tr th:only-of-type {\n",
       "        vertical-align: middle;\n",
       "    }\n",
       "\n",
       "    .dataframe tbody tr th {\n",
       "        vertical-align: top;\n",
       "    }\n",
       "\n",
       "    .dataframe thead th {\n",
       "        text-align: right;\n",
       "    }\n",
       "</style>\n",
       "<table border=\"1\" class=\"dataframe\">\n",
       "  <thead>\n",
       "    <tr style=\"text-align: right;\">\n",
       "      <th></th>\n",
       "      <th>Area</th>\n",
       "      <th>geometry</th>\n",
       "    </tr>\n",
       "  </thead>\n",
       "  <tbody>\n",
       "    <tr>\n",
       "      <th>0</th>\n",
       "      <td>35</td>\n",
       "      <td>MULTIPOLYGON (((-87.60914 41.84469, -87.60915 ...</td>\n",
       "    </tr>\n",
       "    <tr>\n",
       "      <th>1</th>\n",
       "      <td>36</td>\n",
       "      <td>MULTIPOLYGON (((-87.59215 41.81693, -87.59231 ...</td>\n",
       "    </tr>\n",
       "    <tr>\n",
       "      <th>2</th>\n",
       "      <td>37</td>\n",
       "      <td>MULTIPOLYGON (((-87.62880 41.80189, -87.62879 ...</td>\n",
       "    </tr>\n",
       "    <tr>\n",
       "      <th>3</th>\n",
       "      <td>38</td>\n",
       "      <td>MULTIPOLYGON (((-87.60671 41.81681, -87.60670 ...</td>\n",
       "    </tr>\n",
       "    <tr>\n",
       "      <th>4</th>\n",
       "      <td>39</td>\n",
       "      <td>MULTIPOLYGON (((-87.59215 41.81693, -87.59215 ...</td>\n",
       "    </tr>\n",
       "    <tr>\n",
       "      <th>5</th>\n",
       "      <td>4</td>\n",
       "      <td>MULTIPOLYGON (((-87.67441 41.97610, -87.67440 ...</td>\n",
       "    </tr>\n",
       "    <tr>\n",
       "      <th>6</th>\n",
       "      <td>40</td>\n",
       "      <td>MULTIPOLYGON (((-87.60604 41.78587, -87.60627 ...</td>\n",
       "    </tr>\n",
       "    <tr>\n",
       "      <th>7</th>\n",
       "      <td>41</td>\n",
       "      <td>MULTIPOLYGON (((-87.58038 41.80253, -87.58040 ...</td>\n",
       "    </tr>\n",
       "    <tr>\n",
       "      <th>8</th>\n",
       "      <td>42</td>\n",
       "      <td>MULTIPOLYGON (((-87.57714 41.78615, -87.57714 ...</td>\n",
       "    </tr>\n",
       "    <tr>\n",
       "      <th>9</th>\n",
       "      <td>1</td>\n",
       "      <td>MULTIPOLYGON (((-87.65456 41.99817, -87.65574 ...</td>\n",
       "    </tr>\n",
       "  </tbody>\n",
       "</table>\n",
       "</div>"
      ],
      "text/plain": [
       "  Area                                           geometry\n",
       "0   35  MULTIPOLYGON (((-87.60914 41.84469, -87.60915 ...\n",
       "1   36  MULTIPOLYGON (((-87.59215 41.81693, -87.59231 ...\n",
       "2   37  MULTIPOLYGON (((-87.62880 41.80189, -87.62879 ...\n",
       "3   38  MULTIPOLYGON (((-87.60671 41.81681, -87.60670 ...\n",
       "4   39  MULTIPOLYGON (((-87.59215 41.81693, -87.59215 ...\n",
       "5    4  MULTIPOLYGON (((-87.67441 41.97610, -87.67440 ...\n",
       "6   40  MULTIPOLYGON (((-87.60604 41.78587, -87.60627 ...\n",
       "7   41  MULTIPOLYGON (((-87.58038 41.80253, -87.58040 ...\n",
       "8   42  MULTIPOLYGON (((-87.57714 41.78615, -87.57714 ...\n",
       "9    1  MULTIPOLYGON (((-87.65456 41.99817, -87.65574 ..."
      ]
     },
     "execution_count": 22,
     "metadata": {},
     "output_type": "execute_result"
    }
   ],
   "source": [
    "gdf_areas.head(10)"
   ]
  },
  {
   "cell_type": "markdown",
   "id": "WREPJYdNLaMb",
   "metadata": {
    "id": "WREPJYdNLaMb"
   },
   "source": [
    "We also transform our camera information into a geographic DataFrame."
   ]
  },
  {
   "cell_type": "code",
   "execution_count": 23,
   "id": "2adb6aae-8f01-4eb2-aee5-4ad21f18b43b",
   "metadata": {
    "colab": {
     "base_uri": "https://localhost:8080/",
     "height": 423
    },
    "id": "2adb6aae-8f01-4eb2-aee5-4ad21f18b43b",
    "outputId": "4e290ac2-60e1-46bd-b70a-4dd5a81a71b3"
   },
   "outputs": [
    {
     "data": {
      "text/html": [
       "<div>\n",
       "<style scoped>\n",
       "    .dataframe tbody tr th:only-of-type {\n",
       "        vertical-align: middle;\n",
       "    }\n",
       "\n",
       "    .dataframe tbody tr th {\n",
       "        vertical-align: top;\n",
       "    }\n",
       "\n",
       "    .dataframe thead th {\n",
       "        text-align: right;\n",
       "    }\n",
       "</style>\n",
       "<table border=\"1\" class=\"dataframe\">\n",
       "  <thead>\n",
       "    <tr style=\"text-align: right;\">\n",
       "      <th></th>\n",
       "      <th>CameraID</th>\n",
       "      <th>Lat</th>\n",
       "      <th>Lon</th>\n",
       "      <th>geometry</th>\n",
       "    </tr>\n",
       "  </thead>\n",
       "  <tbody>\n",
       "    <tr>\n",
       "      <th>0</th>\n",
       "      <td>1024</td>\n",
       "      <td>41.953025</td>\n",
       "      <td>-87.786683</td>\n",
       "      <td>POINT (-87.78668 41.95302)</td>\n",
       "    </tr>\n",
       "    <tr>\n",
       "      <th>1</th>\n",
       "      <td>1562</td>\n",
       "      <td>41.946820</td>\n",
       "      <td>-87.688407</td>\n",
       "      <td>POINT (-87.68841 41.94682)</td>\n",
       "    </tr>\n",
       "    <tr>\n",
       "      <th>2</th>\n",
       "      <td>1941</td>\n",
       "      <td>41.895787</td>\n",
       "      <td>-87.686991</td>\n",
       "      <td>POINT (-87.68699 41.89579)</td>\n",
       "    </tr>\n",
       "    <tr>\n",
       "      <th>3</th>\n",
       "      <td>1243</td>\n",
       "      <td>42.011662</td>\n",
       "      <td>-87.812781</td>\n",
       "      <td>POINT (-87.81278 42.01166)</td>\n",
       "    </tr>\n",
       "    <tr>\n",
       "      <th>4</th>\n",
       "      <td>1284</td>\n",
       "      <td>41.968226</td>\n",
       "      <td>-87.739599</td>\n",
       "      <td>POINT (-87.73960 41.96823)</td>\n",
       "    </tr>\n",
       "    <tr>\n",
       "      <th>...</th>\n",
       "      <td>...</td>\n",
       "      <td>...</td>\n",
       "      <td>...</td>\n",
       "      <td>...</td>\n",
       "    </tr>\n",
       "    <tr>\n",
       "      <th>272</th>\n",
       "      <td>1252</td>\n",
       "      <td>42.012371</td>\n",
       "      <td>-87.690394</td>\n",
       "      <td>POINT (-87.69039 42.01237)</td>\n",
       "    </tr>\n",
       "    <tr>\n",
       "      <th>273</th>\n",
       "      <td>1421</td>\n",
       "      <td>41.924152</td>\n",
       "      <td>-87.756295</td>\n",
       "      <td>POINT (-87.75629 41.92415)</td>\n",
       "    </tr>\n",
       "    <tr>\n",
       "      <th>274</th>\n",
       "      <td>2003</td>\n",
       "      <td>41.917042</td>\n",
       "      <td>-87.746176</td>\n",
       "      <td>POINT (-87.74618 41.91704)</td>\n",
       "    </tr>\n",
       "    <tr>\n",
       "      <th>275</th>\n",
       "      <td>1034</td>\n",
       "      <td>41.975763</td>\n",
       "      <td>-87.787934</td>\n",
       "      <td>POINT (-87.78793 41.97576)</td>\n",
       "    </tr>\n",
       "    <tr>\n",
       "      <th>276</th>\n",
       "      <td>1421</td>\n",
       "      <td>41.932394</td>\n",
       "      <td>-87.678173</td>\n",
       "      <td>POINT (-87.67817 41.93239)</td>\n",
       "    </tr>\n",
       "  </tbody>\n",
       "</table>\n",
       "<p>277 rows × 4 columns</p>\n",
       "</div>"
      ],
      "text/plain": [
       "     CameraID        Lat        Lon                    geometry\n",
       "0        1024  41.953025 -87.786683  POINT (-87.78668 41.95302)\n",
       "1        1562  41.946820 -87.688407  POINT (-87.68841 41.94682)\n",
       "2        1941  41.895787 -87.686991  POINT (-87.68699 41.89579)\n",
       "3        1243  42.011662 -87.812781  POINT (-87.81278 42.01166)\n",
       "4        1284  41.968226 -87.739599  POINT (-87.73960 41.96823)\n",
       "..        ...        ...        ...                         ...\n",
       "272      1252  42.012371 -87.690394  POINT (-87.69039 42.01237)\n",
       "273      1421  41.924152 -87.756295  POINT (-87.75629 41.92415)\n",
       "274      2003  41.917042 -87.746176  POINT (-87.74618 41.91704)\n",
       "275      1034  41.975763 -87.787934  POINT (-87.78793 41.97576)\n",
       "276      1421  41.932394 -87.678173  POINT (-87.67817 41.93239)\n",
       "\n",
       "[277 rows x 4 columns]"
      ]
     },
     "execution_count": 23,
     "metadata": {},
     "output_type": "execute_result"
    }
   ],
   "source": [
    "from shapely.geometry import Point\n",
    "\n",
    "camera_data = violations.loc[:, [\"CameraID\", \"Lat\", \"Lon\"]].drop_duplicates().to_records(index=False).tolist()\n",
    "\n",
    "gdf_cameras = gpd.GeoDataFrame(\n",
    "    camera_data, columns=['CameraID', 'Lat', 'Lon'],\n",
    "    geometry=[Point(lon, lat) for _, lat, lon in camera_data]\n",
    ")\n",
    "\n",
    "gdf_cameras"
   ]
  },
  {
   "cell_type": "markdown",
   "id": "al7cOzdGGLzg",
   "metadata": {
    "id": "al7cOzdGGLzg"
   },
   "source": [
    "We associate each **camera** to the **polygon** it's contained in."
   ]
  },
  {
   "cell_type": "code",
   "execution_count": 24,
   "id": "NzTHlFKjs2ix",
   "metadata": {
    "colab": {
     "base_uri": "https://localhost:8080/"
    },
    "id": "NzTHlFKjs2ix",
    "outputId": "3cbd2458-71ad-4bf7-f3a9-029521d66b67"
   },
   "outputs": [
    {
     "name": "stderr",
     "output_type": "stream",
     "text": [
      "C:\\Users\\user.LAPTOP-G27BJ7JO\\AppData\\Local\\Temp\\ipykernel_24500\\2974189551.py:1: UserWarning: CRS mismatch between the CRS of left geometries and the CRS of right geometries.\n",
      "Use `to_crs()` to reproject one of the input geometries to match the CRS of the other.\n",
      "\n",
      "Left CRS: None\n",
      "Right CRS: EPSG:4326\n",
      "\n",
      "  gdf_camera_area = gpd.sjoin(gdf_cameras, gdf_areas, how=\"left\", op=\"within\")\n"
     ]
    }
   ],
   "source": [
    "gdf_camera_area = gpd.sjoin(gdf_cameras, gdf_areas, how=\"left\", op=\"within\")"
   ]
  },
  {
   "cell_type": "code",
   "execution_count": 25,
   "id": "VMuE9O8CMWC5",
   "metadata": {
    "colab": {
     "base_uri": "https://localhost:8080/",
     "height": 423
    },
    "id": "VMuE9O8CMWC5",
    "outputId": "4f4b977f-f219-40d0-b8db-5970d56e77a6"
   },
   "outputs": [
    {
     "data": {
      "text/html": [
       "<div>\n",
       "<style scoped>\n",
       "    .dataframe tbody tr th:only-of-type {\n",
       "        vertical-align: middle;\n",
       "    }\n",
       "\n",
       "    .dataframe tbody tr th {\n",
       "        vertical-align: top;\n",
       "    }\n",
       "\n",
       "    .dataframe thead th {\n",
       "        text-align: right;\n",
       "    }\n",
       "</style>\n",
       "<table border=\"1\" class=\"dataframe\">\n",
       "  <thead>\n",
       "    <tr style=\"text-align: right;\">\n",
       "      <th></th>\n",
       "      <th>CameraID</th>\n",
       "      <th>Lat</th>\n",
       "      <th>Lon</th>\n",
       "      <th>geometry</th>\n",
       "      <th>index_right</th>\n",
       "      <th>Area</th>\n",
       "    </tr>\n",
       "  </thead>\n",
       "  <tbody>\n",
       "    <tr>\n",
       "      <th>0</th>\n",
       "      <td>1024</td>\n",
       "      <td>41.953025</td>\n",
       "      <td>-87.786683</td>\n",
       "      <td>POINT (-87.78668 41.95302)</td>\n",
       "      <td>16</td>\n",
       "      <td>17</td>\n",
       "    </tr>\n",
       "    <tr>\n",
       "      <th>1</th>\n",
       "      <td>1562</td>\n",
       "      <td>41.946820</td>\n",
       "      <td>-87.688407</td>\n",
       "      <td>POINT (-87.68841 41.94682)</td>\n",
       "      <td>47</td>\n",
       "      <td>5</td>\n",
       "    </tr>\n",
       "    <tr>\n",
       "      <th>2</th>\n",
       "      <td>1941</td>\n",
       "      <td>41.895787</td>\n",
       "      <td>-87.686991</td>\n",
       "      <td>POINT (-87.68699 41.89579)</td>\n",
       "      <td>24</td>\n",
       "      <td>24</td>\n",
       "    </tr>\n",
       "    <tr>\n",
       "      <th>3</th>\n",
       "      <td>1243</td>\n",
       "      <td>42.011662</td>\n",
       "      <td>-87.812781</td>\n",
       "      <td>POINT (-87.81278 42.01166)</td>\n",
       "      <td>76</td>\n",
       "      <td>9</td>\n",
       "    </tr>\n",
       "    <tr>\n",
       "      <th>4</th>\n",
       "      <td>1284</td>\n",
       "      <td>41.968226</td>\n",
       "      <td>-87.739599</td>\n",
       "      <td>POINT (-87.73960 41.96823)</td>\n",
       "      <td>13</td>\n",
       "      <td>14</td>\n",
       "    </tr>\n",
       "    <tr>\n",
       "      <th>5</th>\n",
       "      <td>1343</td>\n",
       "      <td>41.985650</td>\n",
       "      <td>-87.655336</td>\n",
       "      <td>POINT (-87.65534 41.98565)</td>\n",
       "      <td>75</td>\n",
       "      <td>77</td>\n",
       "    </tr>\n",
       "    <tr>\n",
       "      <th>6</th>\n",
       "      <td>1563</td>\n",
       "      <td>41.946840</td>\n",
       "      <td>-87.688320</td>\n",
       "      <td>POINT (-87.68832 41.94684)</td>\n",
       "      <td>47</td>\n",
       "      <td>5</td>\n",
       "    </tr>\n",
       "    <tr>\n",
       "      <th>7</th>\n",
       "      <td>2712</td>\n",
       "      <td>41.780008</td>\n",
       "      <td>-87.625523</td>\n",
       "      <td>POINT (-87.62552 41.78001)</td>\n",
       "      <td>66</td>\n",
       "      <td>69</td>\n",
       "    </tr>\n",
       "    <tr>\n",
       "      <th>8</th>\n",
       "      <td>2433</td>\n",
       "      <td>41.714323</td>\n",
       "      <td>-87.643067</td>\n",
       "      <td>POINT (-87.64307 41.71432)</td>\n",
       "      <td>71</td>\n",
       "      <td>73</td>\n",
       "    </tr>\n",
       "    <tr>\n",
       "      <th>9</th>\n",
       "      <td>2523</td>\n",
       "      <td>41.722579</td>\n",
       "      <td>-87.575293</td>\n",
       "      <td>POINT (-87.57529 41.72258)</td>\n",
       "      <td>49</td>\n",
       "      <td>51</td>\n",
       "    </tr>\n",
       "  </tbody>\n",
       "</table>\n",
       "</div>"
      ],
      "text/plain": [
       "   CameraID        Lat        Lon                    geometry  index_right  \\\n",
       "0      1024  41.953025 -87.786683  POINT (-87.78668 41.95302)           16   \n",
       "1      1562  41.946820 -87.688407  POINT (-87.68841 41.94682)           47   \n",
       "2      1941  41.895787 -87.686991  POINT (-87.68699 41.89579)           24   \n",
       "3      1243  42.011662 -87.812781  POINT (-87.81278 42.01166)           76   \n",
       "4      1284  41.968226 -87.739599  POINT (-87.73960 41.96823)           13   \n",
       "5      1343  41.985650 -87.655336  POINT (-87.65534 41.98565)           75   \n",
       "6      1563  41.946840 -87.688320  POINT (-87.68832 41.94684)           47   \n",
       "7      2712  41.780008 -87.625523  POINT (-87.62552 41.78001)           66   \n",
       "8      2433  41.714323 -87.643067  POINT (-87.64307 41.71432)           71   \n",
       "9      2523  41.722579 -87.575293  POINT (-87.57529 41.72258)           49   \n",
       "\n",
       "  Area  \n",
       "0   17  \n",
       "1    5  \n",
       "2   24  \n",
       "3    9  \n",
       "4   14  \n",
       "5   77  \n",
       "6    5  \n",
       "7   69  \n",
       "8   73  \n",
       "9   51  "
      ]
     },
     "execution_count": 25,
     "metadata": {},
     "output_type": "execute_result"
    }
   ],
   "source": [
    "gdf_camera_area.head(10)"
   ]
  },
  {
   "cell_type": "markdown",
   "id": "EKGT7XCtG5FQ",
   "metadata": {
    "id": "EKGT7XCtG5FQ"
   },
   "source": [
    "We associate each ***CameraID*** to the corresponding ***Area***."
   ]
  },
  {
   "cell_type": "code",
   "execution_count": 26,
   "id": "EwAGLy9Dy3-b",
   "metadata": {
    "id": "EwAGLy9Dy3-b"
   },
   "outputs": [],
   "source": [
    "camera_area = {\n",
    "    camera_id: int(area)\n",
    "    for camera_id, area in gdf_camera_area.loc[:, ['CameraID', \"Area\"]].to_records(index=False).tolist()\n",
    "}"
   ]
  },
  {
   "cell_type": "markdown",
   "id": "q-wD3JgCH5K3",
   "metadata": {
    "id": "q-wD3JgCH5K3"
   },
   "source": [
    "We use a dictionary that maps each **region** to the **list of areas**."
   ]
  },
  {
   "cell_type": "code",
   "execution_count": 27,
   "id": "sKZjhMDjs2lW",
   "metadata": {
    "id": "sKZjhMDjs2lW"
   },
   "outputs": [],
   "source": [
    "regions = {\n",
    "  \"FarNorth\":     [1, 2, 3, 4, 9, 10, 11, 12, 13, 14, 76, 77],\n",
    "  \"NorthWest\":    [15, 16, 17, 18, 19, 20],\n",
    "  \"North\":        [5, 6, 7, 21, 22],\n",
    "  \"West\":         [23, 24, 25, 26, 27, 28, 29, 30, 31],\n",
    "  \"Central\":      [8, 32, 33],\n",
    "  \"South\":        [34, 35, 36, 37, 38, 39, 40, 41, 42, 43, 60, 69],\n",
    "  \"SouthWest\":     [56, 57, 58, 59, 61, 62, 63, 64, 65, 66, 67, 68],\n",
    "  \"FarSouthWest\": [70, 71, 72, 73, 74, 75],\n",
    "  \"FarSouthEast\": [44, 45, 46, 47, 48, 49, 50, 51, 52, 53, 54, 55],\n",
    "}\n",
    "\n",
    "def get_sides_name(area_id):\n",
    "\n",
    "  for region_name, area_list in regions.items():\n",
    "\n",
    "    if area_id in area_list:\n",
    "      return region_name\n",
    "\n",
    "  raise(f\"{area_id} not contained in any region!\")"
   ]
  },
  {
   "cell_type": "code",
   "execution_count": 28,
   "id": "tT0FOXMH1GB9",
   "metadata": {
    "id": "tT0FOXMH1GB9"
   },
   "outputs": [],
   "source": [
    "camera_region = {\n",
    "    camera_id: get_sides_name(area_id=area_id)\n",
    "    for camera_id, area_id in camera_area.items()\n",
    "}"
   ]
  },
  {
   "cell_type": "markdown",
   "id": "v1-TWZ9QJspq",
   "metadata": {
    "id": "v1-TWZ9QJspq"
   },
   "source": [
    "We use this mapping to create the new column which describe the region."
   ]
  },
  {
   "cell_type": "code",
   "execution_count": 29,
   "id": "L3TzW7FHJzd3",
   "metadata": {
    "id": "L3TzW7FHJzd3"
   },
   "outputs": [],
   "source": [
    "violations['Region'] = violations[\"CameraID\"].map(camera_region)"
   ]
  },
  {
   "cell_type": "code",
   "execution_count": 30,
   "id": "27b4fe5b-0da4-4183-a13d-d835def5732b",
   "metadata": {},
   "outputs": [
    {
     "data": {
      "text/html": [
       "<div>\n",
       "<style scoped>\n",
       "    .dataframe tbody tr th:only-of-type {\n",
       "        vertical-align: middle;\n",
       "    }\n",
       "\n",
       "    .dataframe tbody tr th {\n",
       "        vertical-align: top;\n",
       "    }\n",
       "\n",
       "    .dataframe thead th {\n",
       "        text-align: right;\n",
       "    }\n",
       "</style>\n",
       "<table border=\"1\" class=\"dataframe\">\n",
       "  <thead>\n",
       "    <tr style=\"text-align: right;\">\n",
       "      <th></th>\n",
       "      <th>CameraID</th>\n",
       "      <th>Date</th>\n",
       "      <th>Violations</th>\n",
       "      <th>Lat</th>\n",
       "      <th>Lon</th>\n",
       "      <th>DateT</th>\n",
       "      <th>Region</th>\n",
       "    </tr>\n",
       "  </thead>\n",
       "  <tbody>\n",
       "    <tr>\n",
       "      <th>564068</th>\n",
       "      <td>1024</td>\n",
       "      <td>01/01/2015</td>\n",
       "      <td>4</td>\n",
       "      <td>41.953025</td>\n",
       "      <td>-87.786683</td>\n",
       "      <td>2015-01-01</td>\n",
       "      <td>NorthWest</td>\n",
       "    </tr>\n",
       "    <tr>\n",
       "      <th>509040</th>\n",
       "      <td>1562</td>\n",
       "      <td>01/01/2015</td>\n",
       "      <td>2</td>\n",
       "      <td>41.946820</td>\n",
       "      <td>-87.688407</td>\n",
       "      <td>2015-01-01</td>\n",
       "      <td>North</td>\n",
       "    </tr>\n",
       "    <tr>\n",
       "      <th>603386</th>\n",
       "      <td>1941</td>\n",
       "      <td>01/01/2015</td>\n",
       "      <td>4</td>\n",
       "      <td>41.895787</td>\n",
       "      <td>-87.686991</td>\n",
       "      <td>2015-01-01</td>\n",
       "      <td>West</td>\n",
       "    </tr>\n",
       "    <tr>\n",
       "      <th>765389</th>\n",
       "      <td>1243</td>\n",
       "      <td>01/01/2015</td>\n",
       "      <td>1</td>\n",
       "      <td>42.011662</td>\n",
       "      <td>-87.812781</td>\n",
       "      <td>2015-01-01</td>\n",
       "      <td>FarNorth</td>\n",
       "    </tr>\n",
       "    <tr>\n",
       "      <th>441344</th>\n",
       "      <td>1284</td>\n",
       "      <td>01/01/2015</td>\n",
       "      <td>5</td>\n",
       "      <td>41.968226</td>\n",
       "      <td>-87.739599</td>\n",
       "      <td>2015-01-01</td>\n",
       "      <td>FarNorth</td>\n",
       "    </tr>\n",
       "    <tr>\n",
       "      <th>428965</th>\n",
       "      <td>1343</td>\n",
       "      <td>01/01/2015</td>\n",
       "      <td>2</td>\n",
       "      <td>41.985650</td>\n",
       "      <td>-87.655336</td>\n",
       "      <td>2015-01-01</td>\n",
       "      <td>FarNorth</td>\n",
       "    </tr>\n",
       "    <tr>\n",
       "      <th>545837</th>\n",
       "      <td>1563</td>\n",
       "      <td>01/01/2015</td>\n",
       "      <td>2</td>\n",
       "      <td>41.946840</td>\n",
       "      <td>-87.688320</td>\n",
       "      <td>2015-01-01</td>\n",
       "      <td>North</td>\n",
       "    </tr>\n",
       "    <tr>\n",
       "      <th>640821</th>\n",
       "      <td>2712</td>\n",
       "      <td>01/01/2015</td>\n",
       "      <td>3</td>\n",
       "      <td>41.780008</td>\n",
       "      <td>-87.625523</td>\n",
       "      <td>2015-01-01</td>\n",
       "      <td>South</td>\n",
       "    </tr>\n",
       "    <tr>\n",
       "      <th>525279</th>\n",
       "      <td>2433</td>\n",
       "      <td>01/01/2015</td>\n",
       "      <td>4</td>\n",
       "      <td>41.714323</td>\n",
       "      <td>-87.643067</td>\n",
       "      <td>2015-01-01</td>\n",
       "      <td>FarSouthWest</td>\n",
       "    </tr>\n",
       "    <tr>\n",
       "      <th>487517</th>\n",
       "      <td>2523</td>\n",
       "      <td>01/01/2015</td>\n",
       "      <td>2</td>\n",
       "      <td>41.722579</td>\n",
       "      <td>-87.575293</td>\n",
       "      <td>2015-01-01</td>\n",
       "      <td>FarSouthEast</td>\n",
       "    </tr>\n",
       "  </tbody>\n",
       "</table>\n",
       "</div>"
      ],
      "text/plain": [
       "        CameraID        Date  Violations        Lat        Lon      DateT  \\\n",
       "564068      1024  01/01/2015           4  41.953025 -87.786683 2015-01-01   \n",
       "509040      1562  01/01/2015           2  41.946820 -87.688407 2015-01-01   \n",
       "603386      1941  01/01/2015           4  41.895787 -87.686991 2015-01-01   \n",
       "765389      1243  01/01/2015           1  42.011662 -87.812781 2015-01-01   \n",
       "441344      1284  01/01/2015           5  41.968226 -87.739599 2015-01-01   \n",
       "428965      1343  01/01/2015           2  41.985650 -87.655336 2015-01-01   \n",
       "545837      1563  01/01/2015           2  41.946840 -87.688320 2015-01-01   \n",
       "640821      2712  01/01/2015           3  41.780008 -87.625523 2015-01-01   \n",
       "525279      2433  01/01/2015           4  41.714323 -87.643067 2015-01-01   \n",
       "487517      2523  01/01/2015           2  41.722579 -87.575293 2015-01-01   \n",
       "\n",
       "              Region  \n",
       "564068     NorthWest  \n",
       "509040         North  \n",
       "603386          West  \n",
       "765389      FarNorth  \n",
       "441344      FarNorth  \n",
       "428965      FarNorth  \n",
       "545837         North  \n",
       "640821         South  \n",
       "525279  FarSouthWest  \n",
       "487517  FarSouthEast  "
      ]
     },
     "execution_count": 30,
     "metadata": {},
     "output_type": "execute_result"
    }
   ],
   "source": [
    "violations.head(10)"
   ]
  },
  {
   "cell_type": "markdown",
   "id": "hfhQjNEgJ7xI",
   "metadata": {
    "id": "hfhQjNEgJ7xI"
   },
   "source": [
    "We use *folium* technology to visualize camera in the map."
   ]
  },
  {
   "cell_type": "code",
   "execution_count": 31,
   "id": "0ttM21Ses2rs",
   "metadata": {
    "id": "0ttM21Ses2rs"
   },
   "outputs": [],
   "source": [
    "CAMERA_MAP = \"./out/camera_map.html\"\n",
    "\n",
    "# Available  ['red', 'blue', 'green', 'purple', 'orange', 'darkred',\n",
    "#             'lightred', 'beige', 'darkblue', 'darkgreen', 'cadetblue',\n",
    "#             'darkpurple', 'white', 'pink', 'lightblue', 'lightgreen', 'gray',\n",
    "#             'black', 'lightgray']\n",
    "\n",
    "region_colors = {\n",
    "  \"FarNorth\": 'red',\n",
    "  \"NorthWest\": 'cadetblue',\n",
    "  \"North\": 'lightgreen',\n",
    "  \"West\": 'orange',\n",
    "  \"Central\": 'purple',\n",
    "  \"South\": 'lightgray',\n",
    "  \"SouthWest\": 'lightblue',\n",
    "  \"FarSouthWest\": 'beige',\n",
    "  \"FarSouthEast\": 'pink',\n",
    "}"
   ]
  },
  {
   "cell_type": "code",
   "execution_count": 32,
   "id": "kNhd9Z_cTO7O",
   "metadata": {
    "id": "kNhd9Z_cTO7O"
   },
   "outputs": [],
   "source": [
    "import folium\n",
    "from numpy import mean\n",
    "\n",
    "camera_map = violations.loc[:, ['CameraID', \"Lat\", \"Lon\", \"Region\"]].drop_duplicates().to_records(index=False).tolist()\n",
    "\n",
    "lats = [lat for _, lat,   _, _ in camera_map]\n",
    "lons = [lon for _,   _, lon, _ in camera_map]\n",
    "\n",
    "map = folium.Map(location=[mean(lats), mean(lons)])\n",
    "map.fit_bounds([[min(lats), min(lons)], [max(lats), max(lons)]])\n",
    "\n",
    "for camera_id, lat, lon, region in camera_map:\n",
    "\n",
    "    folium.Marker(\n",
    "        location=[lat, lon],\n",
    "        popup=f'CameraID: {camera_id}',\n",
    "        icon=folium.Icon(color=region_colors[region], icon='camera')\n",
    "    ).add_to(map)\n",
    "\n",
    "\n",
    "map.save(CAMERA_MAP)"
   ]
  },
  {
   "cell_type": "code",
   "execution_count": 33,
   "id": "d8f44d6d-dd2d-40c6-865b-175c07a313e9",
   "metadata": {},
   "outputs": [
    {
     "data": {
      "text/plain": [
       "True"
      ]
     },
     "execution_count": 33,
     "metadata": {},
     "output_type": "execute_result"
    }
   ],
   "source": [
    "import webbrowser\n",
    "from os import path\n",
    "\n",
    "webbrowser.open(url=path.abspath(CAMERA_MAP), new=2)"
   ]
  },
  {
   "cell_type": "markdown",
   "id": "7NsXsxRaL-S_",
   "metadata": {
    "id": "7NsXsxRaL-S_"
   },
   "source": [
    "## Aggregating over cameras"
   ]
  },
  {
   "cell_type": "markdown",
   "id": "hgACdnVKi-4_",
   "metadata": {
    "id": "hgACdnVKi-4_"
   },
   "source": [
    "We **aggregate** all cameras part of the **same region** by **summing up** the **number of violations**."
   ]
  },
  {
   "cell_type": "code",
   "execution_count": 34,
   "id": "8bE-mitZ4Atk",
   "metadata": {
    "id": "8bE-mitZ4Atk"
   },
   "outputs": [],
   "source": [
    "violations = violations.groupby([\"Region\", \"Date\", \"DateT\"]).agg({'Violations': 'sum'}).reset_index()"
   ]
  },
  {
   "cell_type": "code",
   "execution_count": 35,
   "id": "1R1yRYZo45sY",
   "metadata": {
    "id": "1R1yRYZo45sY"
   },
   "outputs": [
    {
     "data": {
      "text/html": [
       "<div>\n",
       "<style scoped>\n",
       "    .dataframe tbody tr th:only-of-type {\n",
       "        vertical-align: middle;\n",
       "    }\n",
       "\n",
       "    .dataframe tbody tr th {\n",
       "        vertical-align: top;\n",
       "    }\n",
       "\n",
       "    .dataframe thead th {\n",
       "        text-align: right;\n",
       "    }\n",
       "</style>\n",
       "<table border=\"1\" class=\"dataframe\">\n",
       "  <thead>\n",
       "    <tr style=\"text-align: right;\">\n",
       "      <th></th>\n",
       "      <th>Region</th>\n",
       "      <th>Date</th>\n",
       "      <th>DateT</th>\n",
       "      <th>Violations</th>\n",
       "    </tr>\n",
       "  </thead>\n",
       "  <tbody>\n",
       "    <tr>\n",
       "      <th>0</th>\n",
       "      <td>Central</td>\n",
       "      <td>01/01/2015</td>\n",
       "      <td>2015-01-01</td>\n",
       "      <td>24</td>\n",
       "    </tr>\n",
       "    <tr>\n",
       "      <th>1</th>\n",
       "      <td>Central</td>\n",
       "      <td>01/01/2016</td>\n",
       "      <td>2016-01-01</td>\n",
       "      <td>54</td>\n",
       "    </tr>\n",
       "    <tr>\n",
       "      <th>2</th>\n",
       "      <td>Central</td>\n",
       "      <td>01/01/2017</td>\n",
       "      <td>2017-01-01</td>\n",
       "      <td>86</td>\n",
       "    </tr>\n",
       "    <tr>\n",
       "      <th>3</th>\n",
       "      <td>Central</td>\n",
       "      <td>01/01/2018</td>\n",
       "      <td>2018-01-01</td>\n",
       "      <td>33</td>\n",
       "    </tr>\n",
       "    <tr>\n",
       "      <th>4</th>\n",
       "      <td>Central</td>\n",
       "      <td>01/01/2019</td>\n",
       "      <td>2019-01-01</td>\n",
       "      <td>29</td>\n",
       "    </tr>\n",
       "    <tr>\n",
       "      <th>5</th>\n",
       "      <td>Central</td>\n",
       "      <td>01/01/2020</td>\n",
       "      <td>2020-01-01</td>\n",
       "      <td>22</td>\n",
       "    </tr>\n",
       "    <tr>\n",
       "      <th>6</th>\n",
       "      <td>Central</td>\n",
       "      <td>01/01/2021</td>\n",
       "      <td>2021-01-01</td>\n",
       "      <td>25</td>\n",
       "    </tr>\n",
       "    <tr>\n",
       "      <th>7</th>\n",
       "      <td>Central</td>\n",
       "      <td>01/01/2022</td>\n",
       "      <td>2022-01-01</td>\n",
       "      <td>24</td>\n",
       "    </tr>\n",
       "    <tr>\n",
       "      <th>8</th>\n",
       "      <td>Central</td>\n",
       "      <td>01/02/2015</td>\n",
       "      <td>2015-01-02</td>\n",
       "      <td>28</td>\n",
       "    </tr>\n",
       "    <tr>\n",
       "      <th>9</th>\n",
       "      <td>Central</td>\n",
       "      <td>01/02/2016</td>\n",
       "      <td>2016-01-02</td>\n",
       "      <td>61</td>\n",
       "    </tr>\n",
       "  </tbody>\n",
       "</table>\n",
       "</div>"
      ],
      "text/plain": [
       "    Region        Date      DateT  Violations\n",
       "0  Central  01/01/2015 2015-01-01          24\n",
       "1  Central  01/01/2016 2016-01-01          54\n",
       "2  Central  01/01/2017 2017-01-01          86\n",
       "3  Central  01/01/2018 2018-01-01          33\n",
       "4  Central  01/01/2019 2019-01-01          29\n",
       "5  Central  01/01/2020 2020-01-01          22\n",
       "6  Central  01/01/2021 2021-01-01          25\n",
       "7  Central  01/01/2022 2022-01-01          24\n",
       "8  Central  01/02/2015 2015-01-02          28\n",
       "9  Central  01/02/2016 2016-01-02          61"
      ]
     },
     "execution_count": 35,
     "metadata": {},
     "output_type": "execute_result"
    }
   ],
   "source": [
    "violations.head(10)"
   ]
  },
  {
   "cell_type": "markdown",
   "id": "u1_J9GwmOsoZ",
   "metadata": {
    "id": "u1_J9GwmOsoZ"
   },
   "source": [
    "We split the dataset by region."
   ]
  },
  {
   "cell_type": "code",
   "execution_count": 36,
   "id": "7RNGnIyG5DWs",
   "metadata": {
    "id": "7RNGnIyG5DWs"
   },
   "outputs": [],
   "source": [
    "regions = {\n",
    "    region_name: region_df for region_name, region_df in violations.groupby('Region')\n",
    "}"
   ]
  },
  {
   "cell_type": "markdown",
   "id": "ONcHudzqPHzF",
   "metadata": {
    "id": "ONcHudzqPHzF"
   },
   "source": [
    "Since we need to have observation for each period we compute possible clusters of dates."
   ]
  },
  {
   "cell_type": "code",
   "execution_count": 37,
   "id": "hnmBIO_W59Zt",
   "metadata": {
    "id": "hnmBIO_W59Zt"
   },
   "outputs": [],
   "source": [
    "from datetime import datetime, timedelta\n",
    "\n",
    "def find_date_clusters(date_list):\n",
    "\n",
    "    date_format = \"%m/%d/%Y\"\n",
    "    date_list = sorted(date_list, key=lambda x: datetime.strptime(x, date_format))\n",
    "\n",
    "    clusters = []\n",
    "    current_cluster = [date_list[0]]\n",
    "\n",
    "    for i in range(1, len(date_list)):\n",
    "        current_date = datetime.strptime(date_list[i], date_format)\n",
    "        previous_date = datetime.strptime(current_cluster[-1], date_format)\n",
    "\n",
    "        if current_date == previous_date + timedelta(days=1):\n",
    "            current_cluster.append(date_list[i])\n",
    "        else:\n",
    "            clusters.append((current_cluster[0], current_cluster[-1], len(current_cluster)))\n",
    "            current_cluster = [date_list[i]]\n",
    "\n",
    "    # Add the last cluster\n",
    "    if current_cluster:\n",
    "        clusters.append((current_cluster[0], current_cluster[-1], len(current_cluster)))\n",
    "\n",
    "    return clusters"
   ]
  },
  {
   "cell_type": "code",
   "execution_count": 38,
   "id": "MenArnmp6HKT",
   "metadata": {
    "id": "MenArnmp6HKT"
   },
   "outputs": [
    {
     "name": "stdout",
     "output_type": "stream",
     "text": [
      "Central\n",
      "Start Date: 01/01/2015, End Date: 12/06/2021, Length: 2532\n",
      "Start Date: 12/08/2021, End Date: 12/31/2022, Length: 389\n",
      "\n",
      "FarNorth\n",
      "Start Date: 01/01/2015, End Date: 12/31/2022, Length: 2922\n",
      "\n",
      "FarSouthEast\n",
      "Start Date: 01/01/2015, End Date: 12/06/2021, Length: 2532\n",
      "Start Date: 12/08/2021, End Date: 12/31/2022, Length: 389\n",
      "\n",
      "FarSouthWest\n",
      "Start Date: 01/01/2015, End Date: 12/06/2021, Length: 2532\n",
      "Start Date: 12/08/2021, End Date: 12/31/2022, Length: 389\n",
      "\n",
      "North\n",
      "Start Date: 01/01/2015, End Date: 12/31/2022, Length: 2922\n",
      "\n",
      "NorthWest\n",
      "Start Date: 01/01/2015, End Date: 12/31/2022, Length: 2922\n",
      "\n",
      "South\n",
      "Start Date: 01/01/2015, End Date: 12/06/2021, Length: 2532\n",
      "Start Date: 12/08/2021, End Date: 12/31/2022, Length: 389\n",
      "\n",
      "SouthWest\n",
      "Start Date: 01/01/2015, End Date: 12/06/2021, Length: 2532\n",
      "Start Date: 12/08/2021, End Date: 12/31/2022, Length: 389\n",
      "\n",
      "West\n",
      "Start Date: 01/01/2015, End Date: 12/31/2022, Length: 2922\n",
      "\n"
     ]
    }
   ],
   "source": [
    "not_single_cluster = []\n",
    "\n",
    "for region_name, region_df in regions.items():\n",
    "\n",
    "    print(f\"{region_name}\")\n",
    "\n",
    "    date_list = list(region_df.loc[: , \"Date\"])\n",
    "\n",
    "    date_clusters = find_date_clusters(date_list=date_list)\n",
    "\n",
    "    if len(date_clusters) > 1:\n",
    "      not_single_cluster.append(region_name)\n",
    "\n",
    "    for start_date, end_date, length in date_clusters:\n",
    "        print(f\"Start Date: {start_date}, End Date: {end_date}, Length: {length}\")\n",
    "    \n",
    "    print()\n"
   ]
  },
  {
   "cell_type": "markdown",
   "id": "PEu-TwrKP_ho",
   "metadata": {
    "id": "PEu-TwrKP_ho"
   },
   "source": [
    "For some regions the obserbation on *12/07/2021* is **missing**, we take the average between the previous and the next day."
   ]
  },
  {
   "cell_type": "code",
   "execution_count": 39,
   "id": "NHPq-D4BpLzc",
   "metadata": {
    "id": "NHPq-D4BpLzc"
   },
   "outputs": [
    {
     "data": {
      "text/plain": [
       "['Central', 'FarSouthEast', 'FarSouthWest', 'South', 'SouthWest']"
      ]
     },
     "execution_count": 39,
     "metadata": {},
     "output_type": "execute_result"
    }
   ],
   "source": [
    "not_single_cluster"
   ]
  },
  {
   "cell_type": "code",
   "execution_count": 40,
   "id": "zfNeoMVA7uN-",
   "metadata": {
    "id": "zfNeoMVA7uN-"
   },
   "outputs": [
    {
     "data": {
      "text/plain": [
       "[30, 108, 125, 168, 133]"
      ]
     },
     "execution_count": 40,
     "metadata": {},
     "output_type": "execute_result"
    }
   ],
   "source": [
    "means = []\n",
    "\n",
    "for region_names in not_single_cluster:\n",
    "\n",
    "  mean_ = violations[\n",
    "      (violations[\"Region\"] == region_names) & ((violations[\"Date\"] == \"12/06/2021\") | (violations[\"Date\"] == \"12/08/2021\"))\n",
    "  ].loc[:, \"Violations\"].mean()\n",
    "  \n",
    "  means.append(int(mean_))\n",
    "\n",
    "means"
   ]
  },
  {
   "cell_type": "code",
   "execution_count": 42,
   "id": "Jjueq_KU_Mga",
   "metadata": {
    "id": "Jjueq_KU_Mga"
   },
   "outputs": [],
   "source": [
    "import numpy as np\n",
    "\n",
    "artificial_rows = pd.DataFrame({\n",
    "    \"Region\": not_single_cluster,\n",
    "    \"Date\": [\"12/07/2021\"]*len(not_single_cluster),\n",
    "    #\"Violations\": means,\n",
    "    \"Violations\": [np.nan]*len(not_single_cluster),\n",
    "    \"DateT\": [pd.to_datetime(\"12/07/2021\", format='%m/%d/%Y')]*len(not_single_cluster)\n",
    "})"
   ]
  },
  {
   "cell_type": "markdown",
   "id": "y9PghHwdpbjI",
   "metadata": {
    "id": "y9PghHwdpbjI"
   },
   "source": [
    "We add the generated rows to the original timeseries."
   ]
  },
  {
   "cell_type": "code",
   "execution_count": 43,
   "id": "FGiajbAp-HFa",
   "metadata": {
    "id": "FGiajbAp-HFa"
   },
   "outputs": [],
   "source": [
    "violations = pd.concat([violations, artificial_rows])\n",
    "violations.sort_values(by='DateT', inplace=True)"
   ]
  },
  {
   "cell_type": "markdown",
   "id": "rIEWkLTyRGjM",
   "metadata": {
    "id": "rIEWkLTyRGjM"
   },
   "source": [
    "Let's check if finally all areas cover the entire period."
   ]
  },
  {
   "cell_type": "code",
   "execution_count": 44,
   "id": "DgI23Imv-v9G",
   "metadata": {
    "id": "DgI23Imv-v9G"
   },
   "outputs": [
    {
     "name": "stdout",
     "output_type": "stream",
     "text": [
      "Central\n",
      "Start Date: 01/01/2015, End Date: 12/31/2022, Length: 2922\n",
      "\n",
      "FarNorth\n",
      "Start Date: 01/01/2015, End Date: 12/31/2022, Length: 2922\n",
      "\n",
      "FarSouthEast\n",
      "Start Date: 01/01/2015, End Date: 12/31/2022, Length: 2922\n",
      "\n",
      "FarSouthWest\n",
      "Start Date: 01/01/2015, End Date: 12/31/2022, Length: 2922\n",
      "\n",
      "North\n",
      "Start Date: 01/01/2015, End Date: 12/31/2022, Length: 2922\n",
      "\n",
      "NorthWest\n",
      "Start Date: 01/01/2015, End Date: 12/31/2022, Length: 2922\n",
      "\n",
      "South\n",
      "Start Date: 01/01/2015, End Date: 12/31/2022, Length: 2922\n",
      "\n",
      "SouthWest\n",
      "Start Date: 01/01/2015, End Date: 12/31/2022, Length: 2922\n",
      "\n",
      "West\n",
      "Start Date: 01/01/2015, End Date: 12/31/2022, Length: 2922\n",
      "\n"
     ]
    }
   ],
   "source": [
    "areas = {\n",
    "    area_name: area_df for area_name, area_df in violations.groupby('Region')\n",
    "}\n",
    "\n",
    "for station_name, station_df in areas.items():\n",
    "\n",
    "    print(f\"{station_name}\")\n",
    "\n",
    "    date_list = list(station_df.loc[: , \"Date\"])\n",
    "\n",
    "    for start_date, end_date, length in find_date_clusters(date_list=date_list):\n",
    "        print(f\"Start Date: {start_date}, End Date: {end_date}, Length: {length}\")\n",
    "        print()"
   ]
  },
  {
   "cell_type": "markdown",
   "id": "aDC1BhdBRwp4",
   "metadata": {
    "id": "aDC1BhdBRwp4"
   },
   "source": [
    "## Times series\n",
    "\n",
    "We use these data to plot **time series**."
   ]
  },
  {
   "cell_type": "code",
   "execution_count": null,
   "id": "LV8RenZYVo7e",
   "metadata": {
    "id": "LV8RenZYVo7e"
   },
   "outputs": [],
   "source": [
    "region_html_colors = {\n",
    "  \"FarNorth\": '#f7a9a0',\n",
    "  \"NorthWest\": '#bdbada',\n",
    "  \"North\": '#b4d56b',\n",
    "  \"West\": '#fbb462',\n",
    "  \"Central\": '#bc80b8',\n",
    "  \"South\": '#d9d9c0',\n",
    "  \"SouthWest\": '#d7eff7',\n",
    "  \"FarSouthWest\": '#d9bc73',\n",
    "  \"FarSouthEast\": '#facee1',\n",
    "}"
   ]
  },
  {
   "cell_type": "code",
   "execution_count": null,
   "id": "tF2jiocb_jPk",
   "metadata": {
    "id": "tF2jiocb_jPk"
   },
   "outputs": [],
   "source": [
    "import matplotlib.pyplot as plt\n",
    "\n",
    "# Set the figure size\n",
    "fig, axes = plt.subplots(nrows=3, ncols=3, figsize=(15, 12))\n",
    "\n",
    "for (region_name, region_df), ax in zip(regions.items(), axes.flatten()):\n",
    "    values = region_df.loc[:, \"Violations\"].to_numpy()\n",
    "\n",
    "    ax.plot(values, color=region_html_colors[region_name])\n",
    "    ax.set_title(region_name)\n",
    "\n",
    "# Adjust layout\n",
    "plt.tight_layout()\n",
    "plt.show()"
   ]
  },
  {
   "cell_type": "markdown",
   "id": "OAW9qVnGqy40",
   "metadata": {
    "id": "OAW9qVnGqy40"
   },
   "source": [
    "Finally we save the CSV for further analysis."
   ]
  },
  {
   "cell_type": "code",
   "execution_count": null,
   "id": "BCB_pNbosafg",
   "metadata": {
    "id": "BCB_pNbosafg"
   },
   "outputs": [],
   "source": [
    "violations.drop(columns=[\"DateT\"], inplace=True)\n",
    "violations.to_csv(\"./out/violations.csv\", header=True, index=False)"
   ]
  },
  {
   "cell_type": "code",
   "execution_count": null,
   "id": "10c9ec0f-da12-4b4b-9439-abf7087ea098",
   "metadata": {},
   "outputs": [],
   "source": []
  }
 ],
 "metadata": {
  "colab": {
   "provenance": []
  },
  "kernelspec": {
   "display_name": "Python 3 (ipykernel)",
   "language": "python",
   "name": "python3"
  },
  "language_info": {
   "codemirror_mode": {
    "name": "ipython",
    "version": 3
   },
   "file_extension": ".py",
   "mimetype": "text/x-python",
   "name": "python",
   "nbconvert_exporter": "python",
   "pygments_lexer": "ipython3",
   "version": "3.11.7"
  },
  "toc-autonumbering": true,
  "toc-showcode": false,
  "toc-showmarkdowntxt": false
 },
 "nbformat": 4,
 "nbformat_minor": 5
}
